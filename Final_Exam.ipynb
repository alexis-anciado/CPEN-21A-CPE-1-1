{
  "nbformat": 4,
  "nbformat_minor": 0,
  "metadata": {
    "colab": {
      "name": "Final Exam.ipynb",
      "provenance": [],
      "authorship_tag": "ABX9TyPHjxxHHxgv7x71pbiFHRve",
      "include_colab_link": true
    },
    "kernelspec": {
      "name": "python3",
      "display_name": "Python 3"
    },
    "language_info": {
      "name": "python"
    }
  },
  "cells": [
    {
      "cell_type": "markdown",
      "metadata": {
        "id": "view-in-github",
        "colab_type": "text"
      },
      "source": [
        "<a href=\"https://colab.research.google.com/github/alexis-anciado/CPEN-21A-CPE-1-1/blob/main/Final_Exam.ipynb\" target=\"_parent\"><img src=\"https://colab.research.google.com/assets/colab-badge.svg\" alt=\"Open In Colab\"/></a>"
      ]
    },
    {
      "cell_type": "markdown",
      "source": [
        "###Problem Statement 1"
      ],
      "metadata": {
        "id": "05x0B9Cy8eGn"
      }
    },
    {
      "cell_type": "code",
      "execution_count": 24,
      "metadata": {
        "colab": {
          "base_uri": "https://localhost:8080/"
        },
        "id": "Y6UrS6xK8dTR",
        "outputId": "42d6f096-b890-4744-a91b-e164d739765c"
      },
      "outputs": [
        {
          "output_type": "stream",
          "name": "stdout",
          "text": [
            "-30\n",
            "-29\n",
            "-93\n"
          ]
        }
      ],
      "source": [
        "a, b, c, d, e, f, g, h, i, j = -1, -7, -6, -5, 1, 0, 2, 3, -8, -9\n",
        "k, l, m, n, o, p, q, r, s, t = -11, -13, 4, 1, 0, -1, -3, 2, -2, -6\n",
        "A, B, C, D, E, F, G, H, I, J = -6, 1, 4, -7, -18, -19, -15, -1, -5, -27\n",
        "sum1 = a + b + c + d + e + f + g + h + i + j\n",
        "sum2 = k + l + m + n + o + p + q + r + s + t\n",
        "sum3 = A + B + C + D + E + F + G + H + I + J\n",
        "sum_of_10_numbers = [sum1, sum2, sum3]\n",
        "for x in sum_of_10_numbers:\n",
        "  print(x)"
      ]
    },
    {
      "cell_type": "markdown",
      "source": [
        "###Problem Statement 2"
      ],
      "metadata": {
        "id": "wZ56n_saEA1R"
      }
    },
    {
      "cell_type": "code",
      "source": [
        "first = int(input(\"Input a number: \"))\n",
        "second = int(input(\"Input a number: \"))\n",
        "third = int(input(\"Input a number: \"))\n",
        "fourth = int(input(\"Input a number: \"))\n",
        "last = int(input(\"Input a number: \"))\n",
        "sum_of_first_and_last = first + last\n",
        "a = first\n",
        "while a == first:\n",
        "  print(sum_of_first_and_last)\n",
        "  break\n"
      ],
      "metadata": {
        "colab": {
          "base_uri": "https://localhost:8080/"
        },
        "id": "wcqoTeOKEEPq",
        "outputId": "57de1c67-4adb-4c7a-b6b9-f03a1b949cb1"
      },
      "execution_count": 44,
      "outputs": [
        {
          "output_type": "stream",
          "name": "stdout",
          "text": [
            "Input a number: 71\n",
            "Input a number: -16\n",
            "Input a number: 25\n",
            "Input a number: 85\n",
            "Input a number: -1\n",
            "70\n"
          ]
        }
      ]
    },
    {
      "cell_type": "markdown",
      "source": [
        "###Problem Statement 3"
      ],
      "metadata": {
        "id": "ZlZFNiZY_j7K"
      }
    },
    {
      "cell_type": "code",
      "source": [
        "x = int(input(\"What is your numerical grade? \"))\n",
        "if x >= 90:\n",
        "  print(\"Your grade is equivalent to A!\")\n",
        "  if x == 90:\n",
        "    print(\" \")\n",
        "elif x >= 80:\n",
        "  print(\"Your grade is equivalent to B!\")\n",
        "  if x == 80:\n",
        "    print(\" \")\n",
        "elif x>= 70:\n",
        "  print(\"Your grade is equivalent to C!\")\n",
        "  if x == 70:\n",
        "    print(\" \")\n",
        "elif x >= 60:\n",
        "  print(\"Your grade is equivalent to D!\")\n",
        "  if x == 60:\n",
        "    print(\" \")\n",
        "else:\n",
        "  print(\"Your grade is equivalent to F!\")"
      ],
      "metadata": {
        "colab": {
          "base_uri": "https://localhost:8080/"
        },
        "id": "R9VWABBc_m3o",
        "outputId": "d975ef51-9791-4212-b540-b917e3708690"
      },
      "execution_count": 23,
      "outputs": [
        {
          "output_type": "stream",
          "name": "stdout",
          "text": [
            "What is your numerical grade? 75\n",
            "Your grade is equivalent to C!\n"
          ]
        }
      ]
    }
  ]
}