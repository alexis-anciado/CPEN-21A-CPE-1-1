{
  "nbformat": 4,
  "nbformat_minor": 0,
  "metadata": {
    "colab": {
      "name": "Midterm Exam.ipynb",
      "provenance": [],
      "authorship_tag": "ABX9TyMJaM0ZiCHeCje+7UuwXoES",
      "include_colab_link": true
    },
    "kernelspec": {
      "name": "python3",
      "display_name": "Python 3"
    },
    "language_info": {
      "name": "python"
    }
  },
  "cells": [
    {
      "cell_type": "markdown",
      "metadata": {
        "id": "view-in-github",
        "colab_type": "text"
      },
      "source": [
        "<a href=\"https://colab.research.google.com/github/alexis-anciado/CPEN-21A-CPE-1-1/blob/main/Midterm_Exam.ipynb\" target=\"_parent\"><img src=\"https://colab.research.google.com/assets/colab-badge.svg\" alt=\"Open In Colab\"/></a>"
      ]
    },
    {
      "cell_type": "markdown",
      "metadata": {
        "id": "eFWWWFGuh49F"
      },
      "source": [
        "###Midterm Exam"
      ]
    },
    {
      "cell_type": "code",
      "metadata": {
        "colab": {
          "base_uri": "https://localhost:8080/"
        },
        "id": "TaQcW35-h_7M",
        "outputId": "2d7d88b0-83bf-4b84-aa2d-d9b1cd1bafdc"
      },
      "source": [
        "print(\"a. Full name: Alexis Jelyn P. Anciado\")\n",
        "print(\"b. Student Number: 202101677\")\n",
        "print(\"c. Age: 18 years old\")\n",
        "print(\"d. Birthday: August 10, 2003\")\n",
        "print(\"e. Address: 15-A Gomez Street, Naic, Cavite\")\n",
        "print(\"f. Course: BSCpE\")\n",
        "print(\"g. Last Sem GWA: 95\")"
      ],
      "execution_count": 35,
      "outputs": [
        {
          "output_type": "stream",
          "name": "stdout",
          "text": [
            "a. Full name: Alexis Jelyn P. Anciado\n",
            "b. Student Number: 202101677\n",
            "c. Age: 18 years old\n",
            "d. Birthday: August 10, 2003\n",
            "e. Address: 15-A Gomez Street, Naic, Cavite\n",
            "f. Course: BSCpE\n",
            "g. Last Sem GWA: 95\n"
          ]
        }
      ]
    },
    {
      "cell_type": "code",
      "metadata": {
        "colab": {
          "base_uri": "https://localhost:8080/"
        },
        "id": "jRrpvQNZpahA",
        "outputId": "f49bd2c2-44a3-4be7-c708-8168d2cc2c81"
      },
      "source": [
        "n, answ = 4, \"Y\"\n",
        "print((2<n)and(n<6))\n",
        "print((2<n)or(n==6))\n",
        "print(not(2<n)or(n==6))\n",
        "print(not(n<6))\n",
        "print((answ==\"Y\")or(answ==\"y\"))\n",
        "print((answ==\"Y\")and(answ==\"y\"))\n",
        "print(not(answ==\"y\"))\n",
        "print(((2<n)and(n==5+1))or(answ==\"No\"))\n",
        "print(((n==2)and(n==7))or (answ==\"Y\"))\n",
        "print((n==2)and((n==7)or(answ==\"Y\")))\n"
      ],
      "execution_count": 44,
      "outputs": [
        {
          "output_type": "stream",
          "name": "stdout",
          "text": [
            "True\n",
            "True\n",
            "False\n",
            "False\n",
            "True\n",
            "False\n",
            "True\n",
            "False\n",
            "True\n",
            "False\n"
          ]
        }
      ]
    },
    {
      "cell_type": "code",
      "metadata": {
        "colab": {
          "base_uri": "https://localhost:8080/"
        },
        "id": "nXVtb286l6Ze",
        "outputId": "38f6465d-db7f-4744-ccdd-53c7dcd20ba8"
      },
      "source": [
        "x, y, w, z = 2, -3, 7, -10\n",
        "print(x/y)\n",
        "print(w/y/x)\n",
        "print(z/y%x)\n",
        "print(x%-y*w)\n",
        "print(x%y)\n",
        "print(z%x-y/x*5+5)\n",
        "print(9-x%(2+y))\n",
        "print(z//w)\n",
        "print((2+y)**2)\n",
        "print(w/x*2)"
      ],
      "execution_count": 34,
      "outputs": [
        {
          "output_type": "stream",
          "name": "stdout",
          "text": [
            "-0.6666666666666666\n",
            "-1.1666666666666667\n",
            "1.3333333333333335\n",
            "14\n",
            "-1\n",
            "12.5\n",
            "9\n",
            "-2\n",
            "1\n",
            "7.0\n"
          ]
        }
      ]
    }
  ]
}