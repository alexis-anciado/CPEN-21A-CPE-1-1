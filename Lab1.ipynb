{
  "nbformat": 4,
  "nbformat_minor": 0,
  "metadata": {
    "colab": {
      "name": "Lab1.ipynb",
      "provenance": [],
      "authorship_tag": "ABX9TyPvt/SPUpR9Rn8/QEh5qT/W",
      "include_colab_link": true
    },
    "kernelspec": {
      "name": "python3",
      "display_name": "Python 3"
    },
    "language_info": {
      "name": "python"
    }
  },
  "cells": [
    {
      "cell_type": "markdown",
      "metadata": {
        "id": "view-in-github",
        "colab_type": "text"
      },
      "source": [
        "<a href=\"https://colab.research.google.com/github/alexis-anciado/CPEN-21A-CPE-1-1/blob/main/Lab1.ipynb\" target=\"_parent\"><img src=\"https://colab.research.google.com/assets/colab-badge.svg\" alt=\"Open In Colab\"/></a>"
      ]
    },
    {
      "cell_type": "markdown",
      "metadata": {
        "id": "KkR-az6hU7on"
      },
      "source": [
        "### Laboratory 1"
      ]
    },
    {
      "cell_type": "code",
      "metadata": {
        "colab": {
          "base_uri": "https://localhost:8080/"
        },
        "id": "j4CDIKK-VF0d",
        "outputId": "5e9360d2-6933-4c18-e076-2949cbcd3e6a"
      },
      "source": [
        "print(\"Welcome to Python Programming\")"
      ],
      "execution_count": 9,
      "outputs": [
        {
          "output_type": "stream",
          "name": "stdout",
          "text": [
            "Welcome to Python Programming\n"
          ]
        }
      ]
    },
    {
      "cell_type": "code",
      "metadata": {
        "colab": {
          "base_uri": "https://localhost:8080/"
        },
        "id": "Dp0apkVDVacd",
        "outputId": "58723435-bffe-4616-95f0-b3d844a5773f"
      },
      "source": [
        "name = \"Alexis Jelyn P. Anciado\"\n",
        "address = \"15-A Gomez Street, Naic, Cavite\"\n",
        "age = \"18\"\n",
        "print(\"My name is\" + \" \" + name)\n",
        "print(\"I live in\" + \" \" + address)\n",
        "print(\"I am\" + \" \" + age + \" \" + \"years old\")\n"
      ],
      "execution_count": 10,
      "outputs": [
        {
          "output_type": "stream",
          "name": "stdout",
          "text": [
            "My name is Alexis Jelyn P. Anciado\n",
            "I live in 15-A Gomez Street, Naic, Cavite\n",
            "I am 18 years old\n"
          ]
        }
      ]
    }
  ]
}