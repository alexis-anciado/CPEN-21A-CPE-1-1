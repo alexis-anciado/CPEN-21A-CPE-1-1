{
  "nbformat": 4,
  "nbformat_minor": 0,
  "metadata": {
    "colab": {
      "name": "Lab1.ipynb",
      "provenance": [],
      "authorship_tag": "ABX9TyPvt/SPUpR9Rn8/QEh5qT/W",
      "include_colab_link": true
    },
    "kernelspec": {
      "name": "python3",
      "display_name": "Python 3"
    },
    "language_info": {
      "name": "python"
    }
  },
  "cells": [
    {
      "cell_type": "markdown",
      "metadata": {
        "id": "view-in-github",
        "colab_type": "text"
      },
      "source": [
        "<a href=\"https://colab.research.google.com/github/alexis-anciado/CPEN-21A-CPE-1-1/blob/main/Lab1.ipynb\" target=\"_parent\"><img src=\"https://colab.research.google.com/assets/colab-badge.svg\" alt=\"Open In Colab\"/></a>"
      ]
    },
    {
      "cell_type": "markdown",
      "metadata": {
        "id": "KkR-az6hU7on"
      },
      "source": [
        "### Laboratory 1"
      ]
    },
    {
      "cell_type": "code",
      "metadata": {
        "colab": {
          "base_uri": "https://localhost:8080/"
        },
        "id": "j4CDIKK-VF0d",
        "outputId": "294bcfdf-8ed8-4f8d-b254-42860733c426"
      },
      "source": [
        "print(\"Welcome to Python Programming\")"
      ],
      "execution_count": 8,
      "outputs": [
        {
          "output_type": "stream",
          "name": "stdout",
          "text": [
            "Welcome to Python Programming\n"
          ]
        }
      ]
    },
    {
      "cell_type": "code",
      "metadata": {
        "colab": {
          "base_uri": "https://localhost:8080/"
        },
        "id": "Dp0apkVDVacd",
        "outputId": "e2ce3ba0-aa0b-4472-a0d0-56706c719e91"
      },
      "source": [
        "name = \"Alexis Jelyn P. Anciado\"\n",
        "address = \"15-A Gomez Street, Naic, Cavite\"\n",
        "age = \"18\"\n",
        "print(\"My name is\" + \" \" + name)\n",
        "print(\"I live in\" + \" \" + address)\n",
        "print(\"I am\" + \" \" + age + \" \" + \"years old\")\n"
      ],
      "execution_count": 7,
      "outputs": [
        {
          "output_type": "stream",
          "name": "stdout",
          "text": [
            "My name is Alexis Jelyn P. Anciado\n",
            "I live in 15-A Gomez Street, Naic, Cavite\n",
            "I am 18 years old\n"
          ]
        }
      ]
    }
  ]
}